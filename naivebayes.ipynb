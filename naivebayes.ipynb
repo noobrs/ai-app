{
 "cells": [
  {
   "cell_type": "markdown",
   "id": "9a08e289",
   "metadata": {},
   "source": [
    "# 1. Imports & Setup"
   ]
  },
  {
   "cell_type": "code",
   "execution_count": 1,
   "id": "ee5979e0",
   "metadata": {},
   "outputs": [],
   "source": [
    "# DATA_PATH = r\"C:\\Users\\tengh\\IMDB Dataset.csv\"\n",
    "# IN_PATH  = \"dataset/IMDB Dataset.csv\"      # Kaggle file\n",
    "# OUT_PATH = \"dataset/imdb_clean_split.csv\"  # Shared artifact\n",
    "# %pip install lxml\n",
    "\n",
    "IN_PATH  = r\"dataset/IMDB Dataset.csv\"\n",
    "OUT_PATH = r\"dataset/imdb_clean_split.csv\"\n",
    "\n",
    "# --- Setup ---\n",
    "import re, unicodedata, hashlib, html, string, pandas as pd, numpy as np\n",
    "from bs4 import BeautifulSoup\n",
    "from sklearn.model_selection import train_test_split"
   ]
  },
  {
   "cell_type": "markdown",
   "id": "db6d6136",
   "metadata": {},
   "source": [
    "# 2. Clean Text"
   ]
  },
  {
   "cell_type": "code",
   "execution_count": 2,
   "id": "fa9e2389",
   "metadata": {},
   "outputs": [
    {
     "name": "stdout",
     "output_type": "stream",
     "text": [
      "split\n",
      "train    34704\n",
      "test      9916\n",
      "val       4958\n",
      "Name: count, dtype: int64\n",
      "label\n",
      "1    24882\n",
      "0    24696\n",
      "Name: count, dtype: int64\n",
      "            n_chars       n_words\n",
      "count  49578.000000  49578.000000\n",
      "mean    1286.624249    229.274013\n",
      "std      972.995822    169.952820\n",
      "min       32.000000      4.000000\n",
      "50%      954.000000    172.000000\n",
      "75%     1560.000000    278.000000\n",
      "90%     2532.000000    448.000000\n",
      "95%     3334.000000    585.150000\n",
      "99%     5100.460000    898.230000\n",
      "max    13593.000000   2459.000000\n",
      "Saved: dataset/imdb_clean_split.csv\n"
     ]
    }
   ],
   "source": [
    "import re, unicodedata, hashlib, html, string, pandas as pd, numpy as np\n",
    "from bs4 import BeautifulSoup\n",
    "\n",
    "def clean_text(x):\n",
    "    if not isinstance(x, str):\n",
    "        return \"\"\n",
    "    # Unescape & strip HTML\n",
    "    x = html.unescape(x)\n",
    "    x = BeautifulSoup(x, \"lxml\").get_text(separator=\" \")\n",
    "\n",
    "    # Unicode normalize + unify curly quotes to straight ones\n",
    "    x = unicodedata.normalize(\"NFKC\", x)\n",
    "    x = x.replace(\"“\", \"'\").replace(\"”\", \"'\").replace(\"‘\", \"'\").replace(\"’\", \"'\").replace('\"', \"'\")\n",
    "\n",
    "    # Neutralize obvious artifacts\n",
    "    x = re.sub(r\"(https?://\\S+)|(\\w+\\.\\w+/\\S+)\", \" \", x)\n",
    "    x = re.sub(r\"\\b[\\w\\.-]+@[\\w\\.-]+\\.\\w+\\b\", \" \", x)\n",
    "\n",
    "    # runs of 3+ asterisks → single *\n",
    "    x = re.sub(r\"\\{2,}\", \"\", x)\n",
    "\n",
    "    # collapse any run of -, – or — to a single em dash, with spacing\n",
    "    x = re.sub(r\"\\s*[-–—]{2,}\\s*\", \" — \", x)\n",
    "\n",
    "    # \"\" → \"   and   '' → '\n",
    "    x = re.sub(r'([\\'\\\"])\\1+', r'\\1', x)  # collapse immediate repeats\n",
    "    # also clean cases with whitespace between repeated quotes: \"  \" → \"\n",
    "    x = re.sub(r'([\\'\"])\\s+\\1', r'\\1', x)\n",
    "\n",
    "    # cap !!!!! or ????? at two; dots at an ellipsis\n",
    "    x = re.sub(r\"([!?])\\1{2,}\", r\"\\1\\1\", x)   # keep at most two\n",
    "    x = re.sub(r\"\\.{3,}\", \"…\", x)\n",
    "\n",
    "    # 5) Remove control chars & collapse whitespace\n",
    "    x = re.sub(r\"[\\u0000-\\u001F\\u007F]\", \" \", x)\n",
    "    x = re.sub(r\"\\s+\", \" \", x).strip()\n",
    "    return x\n",
    "\n",
    "df = pd.read_csv(IN_PATH)  # columns: review, sentiment\n",
    "df[\"review_clean\"] = df[\"review\"].apply(clean_text)\n",
    "df[\"label\"] = (df[\"sentiment\"].str.lower() == \"positive\").astype(int)\n",
    "\n",
    "# drop null/empty data first\n",
    "df = df.dropna(subset=['review_clean']).copy()  # drop rows where review_clean is null\n",
    "# deduplicate (after cleaning) - keep first occurrence\n",
    "def row_key(s): return hashlib.sha1(s.encode(\"utf-8\")).hexdigest()\n",
    "df[\"dup_key\"] = df[\"review_clean\"].apply(row_key)\n",
    "df = df.drop_duplicates(subset=[\"dup_key\"], keep='first').drop(columns=[\"dup_key\"]).reset_index(drop=True)\n",
    "\n",
    "from sklearn.model_selection import train_test_split\n",
    "\n",
    "X = df[\"review_clean\"].values\n",
    "y = df[\"label\"].values\n",
    "\n",
    "# First split: 80% train+val, 20% test\n",
    "X_temp, X_test, y_temp, y_test = train_test_split(\n",
    "    X, y, test_size=0.20, stratify=y, random_state=42\n",
    ")\n",
    "\n",
    "# Second split: from the 80%, split into 70% train (87.5% of temp) and 10% val (12.5% of temp)\n",
    "# 0.125 = 10% / 80% (to get 10% of original data)\n",
    "X_train, X_val, y_train, y_val = train_test_split(\n",
    "    X_temp, y_temp, test_size=0.125, stratify=y_temp, random_state=42\n",
    ")\n",
    "\n",
    "# Create split column\n",
    "df[\"split\"] = \"train\"  # default\n",
    "df.loc[df[\"review_clean\"].isin(X_test), \"split\"] = \"test\"\n",
    "df.loc[df[\"review_clean\"].isin(X_val), \"split\"] = \"val\"\n",
    "\n",
    "# basic EDA\n",
    "print(df[\"split\"].value_counts())\n",
    "print(df[\"label\"].value_counts())\n",
    "\n",
    "df[\"n_chars\"] = df[\"review_clean\"].str.len()\n",
    "df[\"n_words\"] = df[\"review_clean\"].str.split().apply(len)\n",
    "print(df[[\"n_chars\",\"n_words\"]].describe(percentiles=[.5,.75,.9,.95,.99]))\n",
    "\n",
    "df = df.rename(columns={\"review_clean\":\"text\"})\n",
    "df[[\"text\",\"label\",\"split\"]].to_csv(OUT_PATH, index=False)\n",
    "print(\"Saved:\", OUT_PATH)"
   ]
  },
  {
   "cell_type": "code",
   "execution_count": 3,
   "id": "1451c25b",
   "metadata": {},
   "outputs": [
    {
     "name": "stdout",
     "output_type": "stream",
     "text": [
      "Collecting nltk\n",
      "  Using cached nltk-3.9.1-py3-none-any.whl (1.5 MB)\n",
      "Requirement already satisfied: click in .\\venv\\lib\\site-packages (from nltk) (8.2.1)\n",
      "Requirement already satisfied: regex>=2021.8.3 in .\\venv\\lib\\site-packages (from nltk) (2025.9.1)\n",
      "Requirement already satisfied: tqdm in .\\venv\\lib\\site-packages (from nltk) (4.67.1)\n",
      "Requirement already satisfied: joblib in .\\venv\\lib\\site-packages (from nltk) (1.5.2)\n",
      "Requirement already satisfied: colorama in .\\venv\\lib\\site-packages (from click->nltk) (0.4.6)\n",
      "Installing collected packages: nltk\n",
      "Successfully installed nltk-3.9.1\n",
      "Note: you may need to restart the kernel to use updated packages.\n"
     ]
    },
    {
     "name": "stderr",
     "output_type": "stream",
     "text": [
      "\n",
      "[notice] A new release of pip is available: 23.0.1 -> 25.2\n",
      "[notice] To update, run: python.exe -m pip install --upgrade pip\n"
     ]
    }
   ],
   "source": [
    "%pip install nltk"
   ]
  },
  {
   "cell_type": "code",
   "execution_count": 4,
   "id": "80cf1107",
   "metadata": {},
   "outputs": [
    {
     "name": "stderr",
     "output_type": "stream",
     "text": [
      "[nltk_data] Downloading package wordnet to C:\\Users\\Vin\n",
      "[nltk_data]     Sen\\AppData\\Roaming\\nltk_data...\n",
      "[nltk_data]   Package wordnet is already up-to-date!\n",
      "[nltk_data] Downloading package omw-1.4 to C:\\Users\\Vin\n",
      "[nltk_data]     Sen\\AppData\\Roaming\\nltk_data...\n",
      "[nltk_data]   Package omw-1.4 is already up-to-date!\n"
     ]
    },
    {
     "name": "stdout",
     "output_type": "stream",
     "text": [
      "Preprocessed 49578 rows in 89.63s\n",
      "Dropped 0 empty rows. Remaining: 49578\n"
     ]
    }
   ],
   "source": [
    "# === Apply NB-friendly preprocessing to the saved CSV ===\n",
    "import re, html, string, time, pandas as pd, nltk\n",
    "from nltk.corpus import stopwords\n",
    "from nltk.stem import WordNetLemmatizer\n",
    "\n",
    "# 0) Make sure NLTK data is available\n",
    "def _ensure_nltk():\n",
    "    try: nltk.data.find('tokenizers/punkt')\n",
    "    except LookupError: nltk.download('punkt')\n",
    "    try: nltk.data.find('corpora/stopwords')\n",
    "    except LookupError: nltk.download('stopwords')\n",
    "    try: nltk.data.find('corpora/wordnet')\n",
    "    except LookupError: nltk.download('wordnet')\n",
    "    try: nltk.data.find('corpora/omw-1.4')\n",
    "    except LookupError: nltk.download('omw-1.4')\n",
    "_ensure_nltk()\n",
    "\n",
    "# 1) Contractions map (extend if you like)\n",
    "CONTRACTIONS = {\n",
    "    \"aren't\":\"are not\",\"can't\":\"cannot\",\"couldn't\":\"could not\",\"didn't\":\"did not\",\n",
    "    \"doesn't\":\"does not\",\"don't\":\"do not\",\"hadn't\":\"had not\",\"hasn't\":\"has not\",\n",
    "    \"haven't\":\"have not\",\"he's\":\"he is\",\"she's\":\"she is\",\"it's\":\"it is\",\"that's\":\"that is\",\n",
    "    \"there's\":\"there is\",\"what's\":\"what is\",\"who's\":\"who is\",\"won't\":\"will not\",\n",
    "    \"wouldn't\":\"would not\",\"shouldn't\":\"should not\",\"isn't\":\"is not\",\"i'm\":\"i am\",\n",
    "    \"we're\":\"we are\",\"they're\":\"they are\",\"i've\":\"i have\",\"we've\":\"we have\",\"they've\":\"they have\",\n",
    "    \"i'll\":\"i will\",\"we'll\":\"we will\",\"they'll\":\"they will\",\"i'd\":\"i would\",\"we'd\":\"we would\",\"they'd\":\"they would\",\n",
    "    \"you're\":\"you are\",\"you've\":\"you have\",\"you'll\":\"you will\",\"you'd\":\"you would\",\n",
    "    \"could've\":\"could have\",\"should've\":\"should have\",\"would've\":\"would have\",\"mustn't\":\"must not\",\n",
    "}\n",
    "_keys = sorted(CONTRACTIONS.keys(), key=len, reverse=True)\n",
    "RE_CONTRACTIONS = re.compile(r\"\\b(\" + \"|\".join(map(re.escape, _keys)) + r\")\\b\")\n",
    "def expand_contractions(text: str) -> str:\n",
    "    return RE_CONTRACTIONS.sub(lambda m: CONTRACTIONS[m.group(0)], text)\n",
    "\n",
    "# 2) Precompiled regexes used here\n",
    "RE_DIGITS = re.compile(r\"\\d+\")\n",
    "RE_PUNCT  = re.compile(f\"[{re.escape(string.punctuation)}]\")\n",
    "\n",
    "# 3) Stopwords but KEEP negators (important for NB)\n",
    "STOP_WORDS = set(stopwords.words(\"english\"))\n",
    "for neg in (\"not\",\"no\",\"nor\"):\n",
    "    STOP_WORDS.discard(neg)\n",
    "\n",
    "LEMMATIZER = WordNetLemmatizer()\n",
    "\n",
    "def preprocess_text_on_cleaned(text: str) -> str:\n",
    "    \"\"\"\n",
    "    Apply on 'text' from your saved CSV (already cleaned by clean_text).\n",
    "    Adds: lowercase, contractions expansion, digits/punct strip, tokenization,\n",
    "    stopword filtering (negators kept), lemmatization.\n",
    "    \"\"\"\n",
    "    if not isinstance(text, str):\n",
    "        return \"\"\n",
    "    t = text.lower()\n",
    "    t = expand_contractions(t)\n",
    "    t = RE_DIGITS.sub(\" \", t)\n",
    "    t = RE_PUNCT.sub(\" \", t)\n",
    "    t = re.sub(r\"\\s+\", \" \", t).strip()\n",
    "\n",
    "    tokens = nltk.word_tokenize(t)\n",
    "    cleaned = [LEMMATIZER.lemmatize(tok) for tok in tokens\n",
    "               if tok.isalpha() and len(tok) >= 2 and tok not in STOP_WORDS]\n",
    "    return \" \".join(cleaned)\n",
    "\n",
    "# 4) Load your saved CSV (produced in the previous cell)\n",
    "df = pd.read_csv(OUT_PATH)  # must contain columns: text, label, split\n",
    "assert {\"text\",\"label\",\"split\"}.issubset(df.columns), \"Expected columns text,label,split.\"\n",
    "\n",
    "# 5) Apply the NB-friendly preprocessing\n",
    "t0 = time.time()\n",
    "df[\"text_nb\"] = df[\"text\"].astype(str).map(preprocess_text_on_cleaned)\n",
    "print(f\"Preprocessed {len(df)} rows in {time.time()-t0:.2f}s\")\n",
    "\n",
    "# 6) Drop rows that became empty after aggressive cleaning (rare but safe)\n",
    "before = len(df)\n",
    "df = df[df[\"text_nb\"].str.len() > 0].copy()\n",
    "print(f\"Dropped {before - len(df)} empty rows. Remaining: {len(df)}\")"
   ]
  },
  {
   "cell_type": "markdown",
   "id": "9d6f95be",
   "metadata": {},
   "source": [
    "# TF-IDF"
   ]
  },
  {
   "cell_type": "code",
   "execution_count": 5,
   "id": "81544ea6",
   "metadata": {},
   "outputs": [
    {
     "name": "stdout",
     "output_type": "stream",
     "text": [
      "=== Validation ===\n",
      "Accuracy: 0.8864461476401775\n",
      "              precision    recall  f1-score   support\n",
      "\n",
      "    negative     0.8761    0.8992    0.8875      2470\n",
      "    positive     0.8972    0.8738    0.8854      2488\n",
      "\n",
      "    accuracy                         0.8864      4958\n",
      "   macro avg     0.8867    0.8865    0.8864      4958\n",
      "weighted avg     0.8867    0.8864    0.8864      4958\n",
      "\n",
      "\n",
      "=== Test ===\n",
      "Accuracy: 0.891286809197257\n",
      "              precision    recall  f1-score   support\n",
      "\n",
      "    negative     0.8848    0.8988    0.8917      4939\n",
      "    positive     0.8979    0.8839    0.8908      4977\n",
      "\n",
      "    accuracy                         0.8913      9916\n",
      "   macro avg     0.8914    0.8913    0.8913      9916\n",
      "weighted avg     0.8914    0.8913    0.8913      9916\n",
      "\n"
     ]
    }
   ],
   "source": [
    "# --- Step 1: Load cleaned + split dataset created by your code above ---\n",
    "import pandas as pd\n",
    "\n",
    "df2 = df\n",
    "\n",
    "# Sanity checks\n",
    "required_cols = {\"label\", \"split\"}\n",
    "missing = required_cols - set(df2.columns)\n",
    "assert not missing, f\"Missing columns: {missing}\"\n",
    "\n",
    "# Choose which text column to use\n",
    "TEXT_COL = \"text_nb\" if \"text_nb\" in df2.columns else \"text\"\n",
    "assert TEXT_COL in df2.columns, \"Neither 'text_nb' nor 'text' was found.\"\n",
    "\n",
    "# Create split DataFrames\n",
    "train_df = df2[df2['split'] == 'train'].copy()\n",
    "val_df   = df2[df2['split'] == 'val'].copy()\n",
    "test_df  = df2[df2['split'] == 'test'].copy()\n",
    "\n",
    "X_train, y_train = train_df['text'].values, train_df['label'].values\n",
    "X_val,   y_val   = val_df['text'].values,   val_df['label'].values\n",
    "X_test,  y_test  = test_df['text'].values,  test_df['label'].values\n",
    "\n",
    "\n",
    "# --- Pipeline: TF-IDF → MultinomialNB (auto-tuned to your TEXT_COL) ---\n",
    "from sklearn.feature_extraction.text import TfidfVectorizer, ENGLISH_STOP_WORDS\n",
    "from sklearn.naive_bayes import MultinomialNB\n",
    "from sklearn.pipeline import Pipeline\n",
    "from sklearn.metrics import classification_report, accuracy_score\n",
    "\n",
    "if TEXT_COL == \"text_nb\":\n",
    "    tfidf = TfidfVectorizer(\n",
    "        lowercase=False,          # already lowercased\n",
    "        stop_words=None,          # stopwords already removed (negators preserved)\n",
    "        token_pattern=r\"[a-z]+\",  # our NB text contains only a–z tokens\n",
    "        ngram_range=(1, 2),\n",
    "        min_df=2,\n",
    "        max_df=0.95,\n",
    "        sublinear_tf=True\n",
    "    )\n",
    "else:\n",
    "    # Negation-aware stopwords (keep 'not', 'no', 'nor')\n",
    "    custom_stop = set(ENGLISH_STOP_WORDS)\n",
    "    for neg in (\"not\", \"no\", \"nor\"):\n",
    "        custom_stop.discard(neg)\n",
    "\n",
    "    tfidf = TfidfVectorizer(\n",
    "        lowercase=True,\n",
    "        stop_words=list(custom_stop),\n",
    "        ngram_range=(1, 2),\n",
    "        min_df=2,\n",
    "        max_df=0.95,\n",
    "        sublinear_tf=True\n",
    "    )\n",
    "\n",
    "baseline_pipe = Pipeline([\n",
    "    (\"tfidf\", tfidf),\n",
    "    (\"nb\", MultinomialNB(alpha=0.5))\n",
    "])\n",
    "\n",
    "baseline_pipe.fit(X_train, y_train)\n",
    "\n",
    "# Validate\n",
    "val_pred = baseline_pipe.predict(X_val)\n",
    "print(\"=== Validation ===\")\n",
    "print(\"Accuracy:\", accuracy_score(y_val, val_pred))\n",
    "print(classification_report(y_val, val_pred, target_names=[\"negative\",\"positive\"], digits=4))\n",
    "\n",
    "# Test\n",
    "test_pred = baseline_pipe.predict(X_test)\n",
    "print(\"\\n=== Test ===\")\n",
    "print(\"Accuracy:\", accuracy_score(y_test, test_pred))\n",
    "print(classification_report(y_test, test_pred, target_names=[\"negative\",\"positive\"], digits=4))\n"
   ]
  },
  {
   "cell_type": "markdown",
   "id": "33356a29",
   "metadata": {},
   "source": [
    "# Hyperparameter tuning (simple, fast grid)"
   ]
  },
  {
   "cell_type": "code",
   "execution_count": 6,
   "id": "e7b163fc",
   "metadata": {},
   "outputs": [
    {
     "name": "stdout",
     "output_type": "stream",
     "text": [
      "Fitting 5 folds for each of 72 candidates, totalling 360 fits\n",
      "Best params: {'nb__alpha': 0.5, 'tfidf__max_df': 0.9, 'tfidf__min_df': 2, 'tfidf__ngram_range': (1, 2)}\n",
      "Best CV macro-F1: 0.8814429678677549\n"
     ]
    }
   ],
   "source": [
    "# --- Step 3: Grid search for better settings (fast) ---\n",
    "from sklearn.model_selection import GridSearchCV, StratifiedKFold\n",
    "import numpy as np\n",
    "\n",
    "X_trval = pd.concat([train_df['text'], val_df['text']], axis=0)\n",
    "y_trval = np.concatenate([y_train, y_val], axis=0)\n",
    "\n",
    "pipe = Pipeline([\n",
    "    ('tfidf', TfidfVectorizer(\n",
    "        lowercase=True,\n",
    "        stop_words='english',\n",
    "        sublinear_tf=True\n",
    "    )),\n",
    "    ('nb', MultinomialNB())\n",
    "])\n",
    "\n",
    "param_grid = {\n",
    "    'tfidf__ngram_range': [(1,1), (1,2)],\n",
    "    'tfidf__min_df': [2,3,5],\n",
    "    'tfidf__max_df': [0.9, 0.95, 1.0],\n",
    "    'nb__alpha': [0.1, 0.5, 1.0, 2.0]\n",
    "}\n",
    "\n",
    "cv = StratifiedKFold(n_splits=5, shuffle=True, random_state=42)\n",
    "\n",
    "grid = GridSearchCV(\n",
    "    estimator=pipe,\n",
    "    param_grid=param_grid,\n",
    "    scoring='f1_macro',      # matches many rubrics that want macro-F1\n",
    "    cv=cv,\n",
    "    n_jobs=-1,\n",
    "    verbose=1\n",
    ")\n",
    "\n",
    "grid.fit(X_trval, y_trval)\n",
    "print(\"Best params:\", grid.best_params_)\n",
    "print(\"Best CV macro-F1:\", grid.best_score_)\n",
    "best_pipe = grid.best_estimator_\n"
   ]
  },
  {
   "cell_type": "markdown",
   "id": "1b67f2bb",
   "metadata": {},
   "source": [
    "# Retrain the best pipeline on train+val and evaluate on test"
   ]
  },
  {
   "cell_type": "code",
   "execution_count": 7,
   "id": "3df17c18",
   "metadata": {},
   "outputs": [
    {
     "name": "stdout",
     "output_type": "stream",
     "text": [
      "=== Final Test Set Metrics (Weighted) ===\n",
      "Accuracy        : 0.8853\n",
      "Precision (Wgt) : 0.8854\n",
      "Recall (Wgt)    : 0.8853\n",
      "F1 (Weighted)   : 0.8853\n",
      "\n",
      "Classification report (per class + macro/weighted rows):\n",
      "              precision    recall  f1-score   support\n",
      "\n",
      "    negative     0.8891    0.8795    0.8843      4939\n",
      "    positive     0.8817    0.8911    0.8864      4977\n",
      "\n",
      "    accuracy                         0.8853      9916\n",
      "   macro avg     0.8854    0.8853    0.8853      9916\n",
      "weighted avg     0.8854    0.8853    0.8853      9916\n",
      "\n",
      "\n",
      "Confusion Matrix (rows=true, cols=pred):\n",
      " [[4344  595]\n",
      " [ 542 4435]]\n"
     ]
    }
   ],
   "source": [
    "# --- Step 4: Final training on train+val, test evaluation ---\n",
    "best_pipe.fit(X_trval, y_trval)\n",
    "\n",
    "from sklearn.metrics import (\n",
    "    accuracy_score, precision_recall_fscore_support,\n",
    "    classification_report, confusion_matrix\n",
    ")\n",
    "\n",
    "test_pred = best_pipe.predict(X_test)\n",
    "\n",
    "acc = accuracy_score(y_test, test_pred)\n",
    "prec_w, rec_w, f1_w, _ = precision_recall_fscore_support(\n",
    "    y_test, test_pred, average='weighted', zero_division=0\n",
    ")\n",
    "\n",
    "print(\"=== Final Test Set Metrics (Weighted) ===\")\n",
    "print(f\"Accuracy        : {acc:.4f}\")\n",
    "print(f\"Precision (Wgt) : {prec_w:.4f}\")\n",
    "print(f\"Recall (Wgt)    : {rec_w:.4f}\")\n",
    "print(f\"F1 (Weighted)   : {f1_w:.4f}\")\n",
    "\n",
    "# (Optional) Per-class report still useful even if headline is weighted F1\n",
    "print(\"\\nClassification report (per class + macro/weighted rows):\")\n",
    "print(classification_report(\n",
    "    y_test, test_pred,\n",
    "    target_names=['negative','positive'], digits=4, zero_division=0\n",
    "))\n",
    "\n",
    "cm = confusion_matrix(y_test, test_pred)\n",
    "print(\"\\nConfusion Matrix (rows=true, cols=pred):\\n\", cm)\n"
   ]
  },
  {
   "cell_type": "code",
   "execution_count": 8,
   "id": "bb458015",
   "metadata": {},
   "outputs": [
    {
     "data": {
      "image/png": "[encoded data removed]",
      "text/plain": [
       "<Figure size 640x480 with 2 Axes>"
      ]
     },
     "metadata": {},
     "output_type": "display_data"
    }
   ],
   "source": [
    "import matplotlib.pyplot as plt\n",
    "from sklearn.metrics import ConfusionMatrixDisplay\n",
    "\n",
    "disp = ConfusionMatrixDisplay(confusion_matrix=cm, display_labels=['negative','positive'])\n",
    "disp.plot(values_format='d')\n",
    "plt.title(\"Naïve Bayes – Test Confusion Matrix\")\n",
    "plt.show()"
   ]
  },
  {
   "cell_type": "markdown",
   "id": "a3bf3e76",
   "metadata": {},
   "source": [
    "# Save model"
   ]
  },
  {
   "cell_type": "code",
   "execution_count": 9,
   "id": "b9cc1bb7",
   "metadata": {},
   "outputs": [
    {
     "name": "stdout",
     "output_type": "stream",
     "text": [
      "Saved model to: models/nb/nb-sentiment.joblib\n"
     ]
    }
   ],
   "source": [
    "# --- Step 6: Save model ---\n",
    "import joblib\n",
    "MODEL_PATH = \"models/nb/nb-sentiment.joblib\"\n",
    "joblib.dump(best_pipe, MODEL_PATH)\n",
    "print(\"Saved model to:\", MODEL_PATH)\n"
   ]
  },
  {
   "cell_type": "markdown",
   "id": "d49ce673",
   "metadata": {},
   "source": [
    "# Inference helper: predict on new reviews"
   ]
  },
  {
   "cell_type": "code",
   "execution_count": 10,
   "id": "fbe0a65f",
   "metadata": {},
   "outputs": [
    {
     "name": "stdout",
     "output_type": "stream",
     "text": [
      "{'text': 'Absolutely loved it. The acting and the story were fantastic!', 'label_id': 1, 'label': 'positive', 'prob_positive': 0.8655613946803808, 'prob_negative': 0.13443860531961746}\n",
      "{'text': 'What a waste of time. Boring and poorly written.', 'label_id': 0, 'label': 'negative', 'prob_positive': 0.015093113113835217, 'prob_negative': 0.9849068868861653}\n"
     ]
    }
   ],
   "source": [
    "# --- Step 7: Inference helper ---\n",
    "import joblib\n",
    "\n",
    "# Load (if in a fresh kernel, or skip if 'best_pipe' is in memory)\n",
    "nb_pipe = joblib.load(MODEL_PATH)\n",
    "\n",
    "id2label = {0: \"negative\", 1: \"positive\"}\n",
    "\n",
    "def predict_reviews(texts):\n",
    "    \"\"\"texts: list[str] or a single str\"\"\"\n",
    "    if isinstance(texts, str):\n",
    "        texts = [texts]\n",
    "    preds = nb_pipe.predict(texts)\n",
    "    probs = nb_pipe.predict_proba(texts)\n",
    "    return [\n",
    "        {\n",
    "            \"text\": t,\n",
    "            \"label_id\": int(p),\n",
    "            \"label\": id2label[int(p)],\n",
    "            \"prob_positive\": float(pr[1]),\n",
    "            \"prob_negative\": float(pr[0])\n",
    "        }\n",
    "        for t, p, pr in zip(texts, preds, probs)\n",
    "    ]\n",
    "\n",
    "# Try a few examples\n",
    "examples = [\n",
    "    \"Absolutely loved it. The acting and the story were fantastic!\",\n",
    "    \"What a waste of time. Boring and poorly written.\",\n",
    "]\n",
    "for out in predict_reviews(examples):\n",
    "    print(out)\n"
   ]
  },
  {
   "cell_type": "code",
   "execution_count": null,
   "id": "ba5653da",
   "metadata": {},
   "outputs": [
    {
     "name": "stderr",
     "output_type": "stream",
     "text": [
      "d:\\ai-app\\venv\\lib\\site-packages\\tqdm\\auto.py:21: TqdmWarning: IProgress not found. Please update jupyter and ipywidgets. See https://ipywidgets.readthedocs.io/en/stable/user_install.html\n",
      "  from .autonotebook import tqdm as notebook_tqdm\n",
      "nb-sentiment.joblib: 100%|██████████| 28.2M/28.2M [00:05<00:00, 4.82MB/s]\n"
     ]
    },
    {
     "data": {
      "text/plain": [
       "CommitInfo(commit_url='https://huggingface.co/noobrs/nb-movie-sentiment/commit/15c0a8a30977c9d0466cdb92d76a71799647ffb3', commit_message='Upload folder using huggingface_hub', commit_description='', oid='15c0a8a30977c9d0466cdb92d76a71799647ffb3', pr_url=None, repo_url=RepoUrl('https://huggingface.co/noobrs/nb-movie-sentiment', endpoint='https://huggingface.co', repo_type='model', repo_id='noobrs/nb-movie-sentiment'), pr_revision=None, pr_num=None)"
      ]
     },
     "execution_count": 1,
     "metadata": {},
     "output_type": "execute_result"
    }
   ],
   "source": [
    "from huggingface_hub import HfApi\n",
    "import os\n",
    "\n",
    "api = HfApi(token=os.getenv(\"HF_TOKEN\"))\n",
    "api.upload_folder(\n",
    "    folder_path=r\"D:\\ai-app\\models\\nb\",\n",
    "    repo_id=\"noobrs/nb-movie-sentiment\",\n",
    "    repo_type=\"model\",\n",
    ")"
   ]
  },
  {
   "cell_type": "code",
   "execution_count": 4,
   "id": "d1204b80",
   "metadata": {},
   "outputs": [
    {
     "name": "stdout",
     "output_type": "stream",
     "text": [
      "{'text': 'Absolutely loved it. The acting and the story were fantastic!', 'label_id': 1, 'label': 'positive', 'prob_positive': 0.8655613946803808, 'prob_negative': 0.13443860531961746}\n",
      "{'text': 'What a waste of time. Boring and poorly written.', 'label_id': 0, 'label': 'negative', 'prob_positive': 0.015093113113835217, 'prob_negative': 0.9849068868861653}\n"
     ]
    }
   ],
   "source": [
    "from huggingface_hub import hf_hub_download\n",
    "import joblib\n",
    "\n",
    "SIDE_REPO = \"noobrs/nb-movie-sentiment\"  # your repo\n",
    "\n",
    "def load_nb():\n",
    "    try:\n",
    "        nb_path = hf_hub_download(SIDE_REPO, filename=\"nb-sentiment.joblib\")\n",
    "        return joblib.load(nb_path)\n",
    "    except Exception as e:\n",
    "        return None\n",
    "\n",
    "nb = load_nb()\n",
    "id2label = {0: \"negative\", 1: \"positive\"}\n",
    "\n",
    "def predict_reviews(texts):\n",
    "    \"\"\"texts: list[str] or a single str\"\"\"\n",
    "    if isinstance(texts, str):\n",
    "        texts = [texts]\n",
    "    preds = nb.predict(texts)\n",
    "    probs = nb.predict_proba(texts)\n",
    "    return [\n",
    "        {\n",
    "            \"text\": t,\n",
    "            \"label_id\": int(p),\n",
    "            \"label\": id2label[int(p)],\n",
    "            \"prob_positive\": float(pr[1]),\n",
    "            \"prob_negative\": float(pr[0])\n",
    "        }\n",
    "        for t, p, pr in zip(texts, preds, probs)\n",
    "    ]\n",
    "\n",
    "# Try a few examples\n",
    "examples = [\n",
    "    \"Absolutely loved it. The acting and the story were fantastic!\",\n",
    "    \"What a waste of time. Boring and poorly written.\",\n",
    "]\n",
    "for out in predict_reviews(examples):\n",
    "    print(out)"
   ]
  },
  {
   "cell_type": "code",
   "execution_count": null,
   "id": "e6a1b6c7",
   "metadata": {},
   "outputs": [],
   "source": []
  }
 ],
 "metadata": {
  "kernelspec": {
   "display_name": "venv",
   "language": "python",
   "name": "python3"
  },
  "language_info": {
   "codemirror_mode": {
    "name": "ipython",
    "version": 3
   },
   "file_extension": ".py",
   "mimetype": "text/x-python",
   "name": "python",
   "nbconvert_exporter": "python",
   "pygments_lexer": "ipython3",
   "version": "3.10.11"
  }
 },
 "nbformat": 4,
 "nbformat_minor": 5
}
